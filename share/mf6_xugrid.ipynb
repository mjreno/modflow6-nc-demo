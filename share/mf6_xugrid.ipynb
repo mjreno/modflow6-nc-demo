{
 "cells": [
  {
   "cell_type": "code",
   "execution_count": null,
   "id": "45802fc5-311a-4c59-8182-6f39d2e0de55",
   "metadata": {},
   "outputs": [],
   "source": [
    "import xugrid as xu\n",
    "from subprocess import run\n",
    "\n",
    "filename = \"T3MF6.nc\"\n",
    "\n",
    "# https://deltares.github.io/xugrid/\n",
    "# open ugrid dataset\n",
    "ds = xu.open_dataset(filename)\n",
    "print(ds)\n",
    "\n",
    "print(f\"ugrid name => {ds.ugrid.name}\")\n",
    "#print(ds.ugrid.crs)"
   ]
  },
  {
   "cell_type": "code",
   "execution_count": null,
   "id": "d93b7660-50f9-4875-b940-ced42cdacb44",
   "metadata": {},
   "outputs": [],
   "source": [
    "# plot top_l1 variable\n",
    "top = ds[\"top_l1\"][:]\n",
    "top.ugrid.plot()"
   ]
  },
  {
   "cell_type": "code",
   "execution_count": null,
   "id": "8cd7660d-9e66-4122-92f4-8386b4a4df3a",
   "metadata": {},
   "outputs": [],
   "source": [
    "# plot top_l1 surface\n",
    "#top.ugrid.plot.surface()"
   ]
  },
  {
   "cell_type": "code",
   "execution_count": null,
   "id": "43464240-1876-49ca-9d90-61296f990941",
   "metadata": {},
   "outputs": [],
   "source": [
    "# plot botm_l1 variable\n",
    "botm = ds[\"botm_l1\"][:]\n",
    "botm.ugrid.plot()"
   ]
  },
  {
   "cell_type": "code",
   "execution_count": null,
   "id": "baeeb4b1-d715-4a7a-a3cf-620c6e8f565c",
   "metadata": {},
   "outputs": [],
   "source": [
    "# plot botm_l1 surface\n",
    "#botm.ugrid.plot.surface()"
   ]
  },
  {
   "cell_type": "code",
   "execution_count": null,
   "id": "7b8f82e3-cabf-44b8-a403-d126b76164c0",
   "metadata": {},
   "outputs": [],
   "source": [
    "# plot head_l1 timestep 1\n",
    "timestep = 0\n",
    "head0 = ds[\"head_l1\"][timestep,:]\n",
    "head0.ugrid.plot()"
   ]
  },
  {
   "cell_type": "code",
   "execution_count": null,
   "id": "9733c103-c6f1-4a8e-aae3-caf7d4d1d0c5",
   "metadata": {},
   "outputs": [],
   "source": [
    "# plot head_l1 timestep 50\n",
    "timestep = 49\n",
    "head49 = ds[\"head_l1\"][timestep,:]\n",
    "head49.ugrid.plot()"
   ]
  },
  {
   "cell_type": "code",
   "execution_count": null,
   "id": "a1698b4c-21a4-4d62-8640-3a01abf2fd82",
   "metadata": {},
   "outputs": [],
   "source": [
    "# Convert this UgridDataArray or UgridDataset into a standard xarray.Dataset.S\n",
    "xds = ds.ugrid.to_dataset()\n",
    "xds"
   ]
  },
  {
   "cell_type": "code",
   "execution_count": null,
   "id": "fca03d9b-1832-40d9-996e-7b1bd00b1755",
   "metadata": {},
   "outputs": [],
   "source": [
    "# plot xarray ds head_l1 timestep 1\n",
    "timestep = 0\n",
    "head = xds[\"head_l1\"][timestep,:]\n",
    "head\n",
    "head.plot()"
   ]
  },
  {
   "cell_type": "code",
   "execution_count": null,
   "id": "7b02029e-39e7-4856-addb-0b6b32359aac",
   "metadata": {},
   "outputs": [],
   "source": [
    "# close datasets\n",
    "ds.close()\n",
    "xds.close()"
   ]
  },
  {
   "cell_type": "code",
   "execution_count": null,
   "id": "ceee78f7-1941-408d-88b8-2ceac521f2a8",
   "metadata": {},
   "outputs": [],
   "source": []
  }
 ],
 "metadata": {
  "kernelspec": {
   "display_name": "Python 3 (ipykernel)",
   "language": "python",
   "name": "python3"
  },
  "language_info": {
   "codemirror_mode": {
    "name": "ipython",
    "version": 3
   },
   "file_extension": ".py",
   "mimetype": "text/x-python",
   "name": "python",
   "nbconvert_exporter": "python",
   "pygments_lexer": "ipython3",
   "version": "3.12.2"
  }
 },
 "nbformat": 4,
 "nbformat_minor": 5
}
